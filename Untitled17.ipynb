{
 "cells": [
  {
   "cell_type": "code",
   "execution_count": 1,
   "id": "e8b163c5-6e33-4ec9-9258-bc995080557a",
   "metadata": {},
   "outputs": [],
   "source": [
    "a=2"
   ]
  },
  {
   "cell_type": "code",
   "execution_count": 2,
   "id": "9963af9e-11a9-43d1-8a1a-e0b7c5530cee",
   "metadata": {},
   "outputs": [
    {
     "name": "stdout",
     "output_type": "stream",
     "text": [
      "2\n"
     ]
    }
   ],
   "source": [
    "#library function or inbuill function\n",
    "print(a)"
   ]
  },
  {
   "cell_type": "code",
   "execution_count": 8,
   "id": "9b91770f-d627-4358-ae99-2b467c26fc5b",
   "metadata": {},
   "outputs": [],
   "source": [
    "name=(\"vaishnavi sharma\")"
   ]
  },
  {
   "cell_type": "code",
   "execution_count": 9,
   "id": "756c907a-559c-43e5-a252-4b828f816311",
   "metadata": {},
   "outputs": [
    {
     "name": "stdout",
     "output_type": "stream",
     "text": [
      "vaishnavi sharma\n"
     ]
    }
   ],
   "source": [
    "print(name)"
   ]
  },
  {
   "cell_type": "code",
   "execution_count": 10,
   "id": "e0d9b7ab-aae1-4851-b245-81c92d66d067",
   "metadata": {},
   "outputs": [
    {
     "data": {
      "text/plain": [
       "'vaishnavi sharma'"
      ]
     },
     "execution_count": 10,
     "metadata": {},
     "output_type": "execute_result"
    }
   ],
   "source": [
    "name"
   ]
  },
  {
   "cell_type": "code",
   "execution_count": 11,
   "id": "c0df8ec4-18e3-4710-a507-f5f7097b0437",
   "metadata": {},
   "outputs": [],
   "source": [
    "a,b,c=5,4,7"
   ]
  },
  {
   "cell_type": "code",
   "execution_count": 12,
   "id": "93f5f2a4-2d43-464e-be22-25f7b20d34a4",
   "metadata": {},
   "outputs": [],
   "source": [
    "a=b=c=7"
   ]
  },
  {
   "cell_type": "code",
   "execution_count": 19,
   "id": "0bb21bfc-edec-4135-94d8-0e71edcc10c7",
   "metadata": {},
   "outputs": [
    {
     "name": "stdout",
     "output_type": "stream",
     "text": [
      "7,7,7\n"
     ]
    }
   ],
   "source": [
    "print(a,b,c,)"
   ]
  },
  {
   "cell_type": "code",
   "execution_count": 20,
   "id": "804c01a3-5840-4452-9251-fe169ddef0b9",
   "metadata": {},
   "outputs": [
    {
     "name": "stdout",
     "output_type": "stream",
     "text": [
      "7,7,7\n"
     ]
    }
   ],
   "source": [
    "print(a,b,c, sep=',')"
   ]
  },
  {
   "cell_type": "code",
   "execution_count": 21,
   "id": "d93d6f5a-6173-4cb2-9049-575bacd01fdc",
   "metadata": {},
   "outputs": [
    {
     "name": "stdout",
     "output_type": "stream",
     "text": [
      "7@7@7\n"
     ]
    }
   ],
   "source": [
    "print(a,b,c, sep='@')"
   ]
  },
  {
   "cell_type": "code",
   "execution_count": 25,
   "id": "7fb0afdc-4f33-4bd5-8e5e-3de249876dd4",
   "metadata": {},
   "outputs": [
    {
     "name": "stdout",
     "output_type": "stream",
     "text": [
      "456789\n"
     ]
    }
   ],
   "source": [
    "print(45,67,89, sep=\"\")"
   ]
  },
  {
   "cell_type": "code",
   "execution_count": 26,
   "id": "e1da1fdc-55d3-4004-8abc-5f2dd218d6c5",
   "metadata": {},
   "outputs": [
    {
     "name": "stdout",
     "output_type": "stream",
     "text": [
      "vaishnavi sharma\n",
      "aditi\n"
     ]
    }
   ],
   "source": [
    "print('vaishnavi sharma')\n",
    "print(\"aditi\")"
   ]
  },
  {
   "cell_type": "code",
   "execution_count": 34,
   "id": "db3bdf5e-7d11-49f2-abe8-f552ac4e10df",
   "metadata": {},
   "outputs": [
    {
     "name": "stdout",
     "output_type": "stream",
     "text": [
      "vaishnavi sharma\taditi\n"
     ]
    }
   ],
   "source": [
    "print('vaishnavi sharma' ,end='\\t')\n",
    "print(\"aditi\")"
   ]
  },
  {
   "cell_type": "code",
   "execution_count": 35,
   "id": "d714ecc8-100e-455e-b1ad-df228552d617",
   "metadata": {},
   "outputs": [
    {
     "name": "stdout",
     "output_type": "stream",
     "text": [
      "enter two nos.\n"
     ]
    },
    {
     "name": "stdin",
     "output_type": "stream",
     "text": [
      "7 2\n",
      "7 2,5\n"
     ]
    },
    {
     "name": "stdout",
     "output_type": "stream",
     "text": [
      "14\n"
     ]
    }
   ],
   "source": [
    "# write code to add 2 nos.\n",
    "print(\"enter two nos.\")\n",
    "a= int(input(\"input the value of a\")\n",
    "b= int(input(\"int \")\n",
    "c=a+b\n",
    "print(c)"
   ]
  },
  {
   "cell_type": "code",
   "execution_count": null,
   "id": "54535c73-e8b0-4885-bf6c-236de170b763",
   "metadata": {},
   "outputs": [],
   "source": []
  }
 ],
 "metadata": {
  "kernelspec": {
   "display_name": "Python 3 (ipykernel)",
   "language": "python",
   "name": "python3"
  },
  "language_info": {
   "codemirror_mode": {
    "name": "ipython",
    "version": 3
   },
   "file_extension": ".py",
   "mimetype": "text/x-python",
   "name": "python",
   "nbconvert_exporter": "python",
   "pygments_lexer": "ipython3",
   "version": "3.12.4"
  }
 },
 "nbformat": 4,
 "nbformat_minor": 5
}
